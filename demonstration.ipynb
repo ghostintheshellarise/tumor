{
 "cells": [
  {
   "cell_type": "markdown",
   "metadata": {},
   "source": [
    "# Agent-based model of tumor growth \n",
    "\n",
    "This Notebook was written by [Peter McHale](http://ccbs-76.bio.uci.edu/~petermchale/) and lives at [Github](https://github.com/petermchale/tumor). Follow [these instructions](http://jupyter.readthedocs.io/en/latest/install.html)\n",
    "to execute the Notebook using Python. Otherwise, [view this Notebook](https://nbviewer.jupyter.org/github/petermchale/tumor/blob/master/demonstration.ipynb?flush_cache=true) (and its inline animations) in read-only mode using [Jupyter Notebook Viewer](http://nbviewer.jupyter.org). "
   ]
  },
  {
   "cell_type": "markdown",
   "metadata": {},
   "source": [
    "## Introduction"
   ]
  },
  {
   "cell_type": "markdown",
   "metadata": {},
   "source": [
    "<span style=\"color:red\">Some Motivation<span>"
   ]
  },
  {
   "cell_type": "markdown",
   "metadata": {},
   "source": [
    "## Making the contents of the tumor package visible to the Notebook"
   ]
  },
  {
   "cell_type": "code",
   "execution_count": 2,
   "metadata": {
    "collapsed": false
   },
   "outputs": [
    {
     "name": "stdout",
     "output_type": "stream",
     "text": [
      "package directory:\t/Users/ccbs/Desktop/tumor/tumor_package\n",
      "Python searches these paths when asked to import a module:\n",
      "\n",
      "/Users/ccbs/anaconda/lib/python35.zip\n",
      "/Users/ccbs/anaconda/lib/python3.5\n",
      "/Users/ccbs/anaconda/lib/python3.5/plat-darwin\n",
      "/Users/ccbs/anaconda/lib/python3.5/lib-dynload\n",
      "/Users/ccbs/anaconda/lib/python3.5/site-packages\n",
      "/Users/ccbs/anaconda/lib/python3.5/site-packages/Sphinx-1.4.1-py3.5.egg\n",
      "/Users/ccbs/anaconda/lib/python3.5/site-packages/aeosa\n",
      "/Users/ccbs/anaconda/lib/python3.5/site-packages/setuptools-23.0.0-py3.5.egg\n",
      "/Users/ccbs/anaconda/lib/python3.5/site-packages/IPython/extensions\n",
      "/Users/ccbs/.ipython\n",
      "/Users/ccbs/Desktop/tumor/tumor_package\n"
     ]
    }
   ],
   "source": [
    "import os\n",
    "repository_directory = os.getcwd() \n",
    "package_directory = repository_directory + '/tumor_package'\n",
    "print('package directory:\\t' + package_directory)\n",
    "import sys\n",
    "print('Python searches these paths when asked to import a module:')\n",
    "sys.path.append(package_directory)\n",
    "for path in sys.path: \n",
    "    print(path)"
   ]
  },
  {
   "cell_type": "markdown",
   "metadata": {},
   "source": [
    "## Simulating tumor growth "
   ]
  },
  {
   "cell_type": "code",
   "execution_count": 4,
   "metadata": {
    "collapsed": false
   },
   "outputs": [],
   "source": [
    "# Set up the code that will animate tumor growth\n",
    "\n",
    "from read import read_into_dict\n",
    "initialCondition = read_into_dict('data/initialCondition.in')\n",
    "parameterValues = read_into_dict('data/parameterValues.in')\n",
    "\n",
    "from simulation import animate_tumor_growth_base\n",
    "fig, anim = animate_tumor_growth_base(initialCondition, parameterValues, number_of_frames=40, random_seed=2)"
   ]
  },
  {
   "cell_type": "markdown",
   "metadata": {},
   "source": [
    "To embed the matplotlib animation `anim` in the notebook, I follow [Louis Tiao's blog post](http://louistiao.me/posts/notebooks/embedding-matplotlib-animations-in-jupyter-notebooks/). This requires a recent version of [Matplotlib](http://matplotlib.org), and an animation writer called [ffmpeg](https://ffmpeg.org), which you can install by first installing [Homebrew](http://brew.sh) and then typing `brew install ffmpeg` in the `Terminal`."
   ]
  },
  {
   "cell_type": "code",
   "execution_count": null,
   "metadata": {
    "collapsed": false
   },
   "outputs": [],
   "source": [
    "# Check matplotlib and ffmpeg\n",
    "import matplotlib as mpl\n",
    "print('matplotlib version:\\t' + mpl.__version__ + '\\t (should be at least 1.5.1)')\n",
    "from matplotlib import pyplot as plt\n",
    "print('animation writer:\\t' + plt.rcParams['animation.writer'] + '\\t (should be ffmpeg)')"
   ]
  },
  {
   "cell_type": "code",
   "execution_count": null,
   "metadata": {
    "collapsed": false,
    "scrolled": false
   },
   "outputs": [],
   "source": [
    "# Simulate and visualize the tumor\n",
    "from IPython.display import HTML\n",
    "HTML(anim.to_html5_video())"
   ]
  },
  {
   "cell_type": "markdown",
   "metadata": {},
   "source": [
    "In this movie, each disc represents a tumor cell. Color indicates whether the cell is in a dividing/replicating/cycling state (green) or a non-dividing/quiescent state (red). Time is measured in units of a cell cycle: the average time that elapses between a cell's birth and its division. \n",
    "\n",
    "You can see that the tumor grows when it is composed mainly of cycling cells early on, arrests its growth when it becomes composed mainly of quiescent cells, and finally starts to regress as cell death kicks in."
   ]
  },
  {
   "cell_type": "markdown",
   "metadata": {},
   "source": [
    "## The model"
   ]
  },
  {
   "cell_type": "markdown",
   "metadata": {},
   "source": [
    "Having visualized the output of the model, let us now describe it in more detail. We suppose that the numbers of quiescent cells (Q-cells) influences the behavior of the cycling cells (C-cells). Specifically, at each cell cycle (on average) a C-cell chooses to divide or become quiescent with probabilities $p$ or $1-p$, respectively, that depend upon the number of Q-cells within the local neighborhood. \n",
    "\n",
    "<span style=\"color:red\"> formulae<span>"
   ]
  },
  {
   "cell_type": "markdown",
   "metadata": {},
   "source": [
    "## Parameter Exploration"
   ]
  },
  {
   "cell_type": "markdown",
   "metadata": {},
   "source": [
    "In the movie shown above, negative feedback was chosen to have a spatial range that vastly exceeded the maximum size that the tumor could reach. Since negative feedback is initially responsible for arresting the growth of the tumor (i.e. before cell death kicks in), you might expect that reducing the spatial range of feedback would cause the tumor to expand exponentially. Simulations show, however, that negative feedback can arrest tumor growth even when the spatial range of feedback is smaller than the maximum tumor size."
   ]
  },
  {
   "cell_type": "code",
   "execution_count": null,
   "metadata": {
    "collapsed": false
   },
   "outputs": [],
   "source": [
    "# re-factor some code\n",
    "def embed_animation(initialCondition, parameterValues, number_of_frames, random_seed): \n",
    "    fig, anim = animate_tumor_growth_base(initialCondition, parameterValues, number_of_frames, random_seed)\n",
    "    return HTML(anim.to_html5_video())\n",
    "\n",
    "# change the spatial range of the negative feedback signal    \n",
    "parameterValues['signaling_range_negative'] = 3\n",
    "\n",
    "# re-simulate tumor growth\n",
    "embed_animation(initialCondition, parameterValues, number_of_frames=300, random_seed=2)"
   ]
  },
  {
   "cell_type": "code",
   "execution_count": 5,
   "metadata": {
    "collapsed": false
   },
   "outputs": [
    {
     "name": "stdout",
     "output_type": "stream",
     "text": [
      "data/tumor.log created\n",
      "finished generating time courses\n",
      "\n"
     ]
    }
   ],
   "source": [
    "from simulation import generate_tumor_growth_trajectories_base\n",
    "generate_tumor_growth_trajectories_base(initialCondition, parameterValues, number_realizations=1, random_seed=2, output_directory_name='data/')"
   ]
  }
 ],
 "metadata": {
  "anaconda-cloud": {},
  "kernelspec": {
   "display_name": "Python [Root]",
   "language": "python",
   "name": "Python [Root]"
  },
  "language_info": {
   "codemirror_mode": {
    "name": "ipython",
    "version": 3
   },
   "file_extension": ".py",
   "mimetype": "text/x-python",
   "name": "python",
   "nbconvert_exporter": "python",
   "pygments_lexer": "ipython3",
   "version": "3.5.2"
  }
 },
 "nbformat": 4,
 "nbformat_minor": 0
}
